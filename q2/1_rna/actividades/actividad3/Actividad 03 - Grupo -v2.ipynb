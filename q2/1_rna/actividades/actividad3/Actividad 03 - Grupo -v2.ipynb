{
 "cells": [
  {
   "cell_type": "markdown",
   "metadata": {
    "id": "KVfeIL4OiTON"
   },
   "source": [
    "# ACTIVIDAD 3 (GRUPAL): REDES NEURONALES RECURRENTES (RNN)\n",
    "\n",
    "---\n",
    "\n",
    "En esta actividad grupal, vamos a utilizar las RNN para identificar la intensidad de odio en mensajes escritos en las redes sociales. Esta actividad forma parte del proyecto transversal del Máster, ¡así que seguro que ya estás familiarizado/a con el dataset!\n",
    "\n",
    "Por sencillez, se adjunta un documento csv que es una versión resumida del dataset original del proyecto transversal. En este dataset, solo se incluyen los mensajes que han sido catalogados como contenedores de odio. También se han eliminado las features innecesarias para este trabajo simplemente para hacer todo el proceso más rápido computacionalmente hablando.\n",
    "\n",
    "El dataset a utilizar consiste en 12280 mensajes de odio. Los mensajes pueden pertenecer a cinco categorias (numeradadas del 1 al 5), siendo 1 la menor intensidadd y 5 la mayor intensidad de odio del mensaje. El dataset ya ha sido procesado para eliminar ciertos caracteres que podrían darte problemas y para utilizar una codificación más amigable."
   ]
  },
  {
   "cell_type": "code",
   "execution_count": null,
   "metadata": {},
   "outputs": [],
   "source": []
  },
  {
   "cell_type": "markdown",
   "metadata": {},
   "source": [
    "INTEGRANTES DEL GRUPO:\n",
    "* ANDRÉS DAVID FORERO MARTÍNEZ\n",
    "* HUGO ERNESTO IGUARÁN HERNÁNDEZ\n",
    "* LUIS ALBERTO VALENCIA AVELLANEDA\n",
    "* LOURDES VILLAFAÑA CAMBRON\n",
    "\n",
    "\n"
   ]
  },
  {
   "cell_type": "markdown",
   "metadata": {
    "id": "Qeb4aqTDjtZu"
   },
   "source": [
    "Empezamos, como siempre, incluyendo todo lo que vamos a necesitar. Según lo que vayas a hacer, es posible que necesites incluir alguna librería extra."
   ]
  },
  {
   "cell_type": "code",
   "execution_count": 1,
   "metadata": {},
   "outputs": [],
   "source": [
    "#!pip install tensorflow\n",
    "#!pip install keras\n"
   ]
  },
  {
   "cell_type": "code",
   "execution_count": 2,
   "metadata": {
    "colab": {
     "base_uri": "https://localhost:8080/"
    },
    "id": "2gvn3m1cgZ7-",
    "outputId": "f7a3887a-3542-4e99-8c45-353e8b2443f2"
   },
   "outputs": [
    {
     "name": "stderr",
     "output_type": "stream",
     "text": [
      "2025-06-14 10:57:09.043806: I tensorflow/core/platform/cpu_feature_guard.cc:210] This TensorFlow binary is optimized to use available CPU instructions in performance-critical operations.\n",
      "To enable the following instructions: SSE4.1 SSE4.2, in other operations, rebuild TensorFlow with the appropriate compiler flags.\n"
     ]
    },
    {
     "name": "stdout",
     "output_type": "stream",
     "text": [
      "Intel MKL WARNING: Support of Intel(R) Streaming SIMD Extensions 4.2 (Intel(R) SSE4.2) enabled only processors has been deprecated. Intel oneAPI Math Kernel Library 2025.0 will require Intel(R) Advanced Vector Extensions (Intel(R) AVX) instructions.\n",
      "Intel MKL WARNING: Support of Intel(R) Streaming SIMD Extensions 4.2 (Intel(R) SSE4.2) enabled only processors has been deprecated. Intel oneAPI Math Kernel Library 2025.0 will require Intel(R) Advanced Vector Extensions (Intel(R) AVX) instructions.\n"
     ]
    },
    {
     "name": "stderr",
     "output_type": "stream",
     "text": [
      "[nltk_data] Downloading package stopwords to\n",
      "[nltk_data]     /Users/luisvalencia/nltk_data...\n",
      "[nltk_data]   Package stopwords is already up-to-date!\n",
      "[nltk_data] Downloading package wordnet to\n",
      "[nltk_data]     /Users/luisvalencia/nltk_data...\n",
      "[nltk_data]   Package wordnet is already up-to-date!\n"
     ]
    },
    {
     "ename": "ModuleNotFoundError",
     "evalue": "No module named 'tensorflow.keras'",
     "output_type": "error",
     "traceback": [
      "\u001b[0;31m---------------------------------------------------------------------------\u001b[0m",
      "\u001b[0;31mModuleNotFoundError\u001b[0m                       Traceback (most recent call last)",
      "Cell \u001b[0;32mIn[2], line 20\u001b[0m\n\u001b[1;32m     18\u001b[0m \u001b[38;5;66;03m#from keras.preprocessing.text import Tokenizer\u001b[39;00m\n\u001b[1;32m     19\u001b[0m \u001b[38;5;28;01mfrom\u001b[39;00m \u001b[38;5;21;01mkeras\u001b[39;00m\u001b[38;5;21;01m.\u001b[39;00m\u001b[38;5;21;01mpreprocessing\u001b[39;00m\u001b[38;5;21;01m.\u001b[39;00m\u001b[38;5;21;01msequence\u001b[39;00m \u001b[38;5;28;01mimport\u001b[39;00m pad_sequences\n\u001b[0;32m---> 20\u001b[0m \u001b[38;5;28;01mfrom\u001b[39;00m \u001b[38;5;21;01mtensorflow\u001b[39;00m\u001b[38;5;21;01m.\u001b[39;00m\u001b[38;5;21;01mkeras\u001b[39;00m\u001b[38;5;21;01m.\u001b[39;00m\u001b[38;5;21;01mpreprocessing\u001b[39;00m\u001b[38;5;21;01m.\u001b[39;00m\u001b[38;5;21;01mtext\u001b[39;00m \u001b[38;5;28;01mimport\u001b[39;00m Tokenizer\n\u001b[1;32m     21\u001b[0m \u001b[38;5;28;01mfrom\u001b[39;00m \u001b[38;5;21;01mtensorflow\u001b[39;00m\u001b[38;5;21;01m.\u001b[39;00m\u001b[38;5;21;01mkeras\u001b[39;00m\u001b[38;5;21;01m.\u001b[39;00m\u001b[38;5;21;01mpreprocessing\u001b[39;00m\u001b[38;5;21;01m.\u001b[39;00m\u001b[38;5;21;01msequence\u001b[39;00m \u001b[38;5;28;01mimport\u001b[39;00m pad_sequences\n",
      "\u001b[0;31mModuleNotFoundError\u001b[0m: No module named 'tensorflow.keras'"
     ]
    }
   ],
   "source": [
    "import tensorflow as tf\n",
    "from tensorflow import keras\n",
    "from keras import layers\n",
    "\n",
    "import matplotlib.pyplot as plt\n",
    "import pandas as pd\n",
    "import numpy as np\n",
    "import string\n",
    "import re\n",
    "import nltk\n",
    "nltk.download('stopwords')\n",
    "nltk.download('wordnet')\n",
    "\n",
    "from nltk.stem import WordNetLemmatizer\n",
    "from nltk.corpus import stopwords\n",
    "\n",
    "from sklearn.model_selection import train_test_split\n",
    "#from keras.preprocessing.text import Tokenizer\n",
    "from keras.preprocessing.sequence import pad_sequences\n",
    "from tensorflow.keras.preprocessing.text import Tokenizer\n",
    "from tensorflow.keras.preprocessing.sequence import pad_sequences\n"
   ]
  },
  {
   "cell_type": "markdown",
   "metadata": {
    "id": "_xvORCesj6S3"
   },
   "source": [
    "Cargamos el dataset. Lo encontrarás adjunto a este Notebook, al descargar la actividad del Campus Virtual."
   ]
  },
  {
   "cell_type": "code",
   "execution_count": null,
   "metadata": {
    "id": "sI11OfLxgh9H"
   },
   "outputs": [
    {
     "data": {
      "text/html": [
       "<div>\n",
       "<style scoped>\n",
       "    .dataframe tbody tr th:only-of-type {\n",
       "        vertical-align: middle;\n",
       "    }\n",
       "\n",
       "    .dataframe tbody tr th {\n",
       "        vertical-align: top;\n",
       "    }\n",
       "\n",
       "    .dataframe thead th {\n",
       "        text-align: right;\n",
       "    }\n",
       "</style>\n",
       "<table border=\"1\" class=\"dataframe\">\n",
       "  <thead>\n",
       "    <tr style=\"text-align: right;\">\n",
       "      <th></th>\n",
       "      <th>CONTENIDO A ANALIZAR</th>\n",
       "      <th>INTENSIDAD</th>\n",
       "    </tr>\n",
       "  </thead>\n",
       "  <tbody>\n",
       "    <tr>\n",
       "      <th>0</th>\n",
       "      <td>cristina cifuentes podrí­a haber sido la presi...</td>\n",
       "      <td>3</td>\n",
       "    </tr>\n",
       "    <tr>\n",
       "      <th>1</th>\n",
       "      <td>habrí­a que reabrir el caso. el supremo se ded...</td>\n",
       "      <td>3</td>\n",
       "    </tr>\n",
       "    <tr>\n",
       "      <th>2</th>\n",
       "      <td>me parece un poco exagerado pedir más de tres ...</td>\n",
       "      <td>3</td>\n",
       "    </tr>\n",
       "    <tr>\n",
       "      <th>3</th>\n",
       "      <td>parece que todos los delincuentes niegan las e...</td>\n",
       "      <td>3</td>\n",
       "    </tr>\n",
       "    <tr>\n",
       "      <th>4</th>\n",
       "      <td>preguntárselo al fracasado, media carrera en 6...</td>\n",
       "      <td>4</td>\n",
       "    </tr>\n",
       "  </tbody>\n",
       "</table>\n",
       "</div>"
      ],
      "text/plain": [
       "                                CONTENIDO A ANALIZAR  INTENSIDAD\n",
       "0  cristina cifuentes podrí­a haber sido la presi...           3\n",
       "1  habrí­a que reabrir el caso. el supremo se ded...           3\n",
       "2  me parece un poco exagerado pedir más de tres ...           3\n",
       "3  parece que todos los delincuentes niegan las e...           3\n",
       "4  preguntárselo al fracasado, media carrera en 6...           4"
      ]
     },
     "execution_count": 2,
     "metadata": {},
     "output_type": "execute_result"
    }
   ],
   "source": [
    "# Leemos el fichero\n",
    "data = pd.read_csv('dataset.csv', sep=\";\", encoding='utf-8')\n",
    "# Mostramos las 5 primeras filas\n",
    "data.head()\n"
   ]
  },
  {
   "cell_type": "markdown",
   "metadata": {
    "id": "WYJWQvEqkB2B"
   },
   "source": [
    "Cambiamos el nombre de las features para hacer su manejo más amigable:"
   ]
  },
  {
   "cell_type": "code",
   "execution_count": null,
   "metadata": {
    "id": "nTawYDb6NmmH"
   },
   "outputs": [
    {
     "data": {
      "text/html": [
       "<div>\n",
       "<style scoped>\n",
       "    .dataframe tbody tr th:only-of-type {\n",
       "        vertical-align: middle;\n",
       "    }\n",
       "\n",
       "    .dataframe tbody tr th {\n",
       "        vertical-align: top;\n",
       "    }\n",
       "\n",
       "    .dataframe thead th {\n",
       "        text-align: right;\n",
       "    }\n",
       "</style>\n",
       "<table border=\"1\" class=\"dataframe\">\n",
       "  <thead>\n",
       "    <tr style=\"text-align: right;\">\n",
       "      <th></th>\n",
       "      <th>mensaje</th>\n",
       "      <th>intensidad</th>\n",
       "    </tr>\n",
       "  </thead>\n",
       "  <tbody>\n",
       "    <tr>\n",
       "      <th>0</th>\n",
       "      <td>cristina cifuentes podrí­a haber sido la presi...</td>\n",
       "      <td>3</td>\n",
       "    </tr>\n",
       "    <tr>\n",
       "      <th>1</th>\n",
       "      <td>habrí­a que reabrir el caso. el supremo se ded...</td>\n",
       "      <td>3</td>\n",
       "    </tr>\n",
       "    <tr>\n",
       "      <th>2</th>\n",
       "      <td>me parece un poco exagerado pedir más de tres ...</td>\n",
       "      <td>3</td>\n",
       "    </tr>\n",
       "    <tr>\n",
       "      <th>3</th>\n",
       "      <td>parece que todos los delincuentes niegan las e...</td>\n",
       "      <td>3</td>\n",
       "    </tr>\n",
       "    <tr>\n",
       "      <th>4</th>\n",
       "      <td>preguntárselo al fracasado, media carrera en 6...</td>\n",
       "      <td>4</td>\n",
       "    </tr>\n",
       "  </tbody>\n",
       "</table>\n",
       "</div>"
      ],
      "text/plain": [
       "                                             mensaje  intensidad\n",
       "0  cristina cifuentes podrí­a haber sido la presi...           3\n",
       "1  habrí­a que reabrir el caso. el supremo se ded...           3\n",
       "2  me parece un poco exagerado pedir más de tres ...           3\n",
       "3  parece que todos los delincuentes niegan las e...           3\n",
       "4  preguntárselo al fracasado, media carrera en 6...           4"
      ]
     },
     "execution_count": 3,
     "metadata": {},
     "output_type": "execute_result"
    }
   ],
   "source": [
    "data = data.rename(columns={'CONTENIDO A ANALIZAR': 'mensaje', 'INTENSIDAD': 'intensidad'})\n",
    "data.head()\n"
   ]
  },
  {
   "cell_type": "markdown",
   "metadata": {
    "id": "rSrgxwcHkIpk"
   },
   "source": [
    "Mostramos información básica para saber a qué nos enfrentamos:"
   ]
  },
  {
   "cell_type": "code",
   "execution_count": null,
   "metadata": {
    "id": "D8sOe2k-jb9r"
   },
   "outputs": [
    {
     "data": {
      "text/plain": [
       "(12279, 2)"
      ]
     },
     "execution_count": 4,
     "metadata": {},
     "output_type": "execute_result"
    }
   ],
   "source": [
    "data.shape"
   ]
  },
  {
   "cell_type": "code",
   "execution_count": null,
   "metadata": {
    "id": "r70C7LsWnOTP"
   },
   "outputs": [
    {
     "name": "stdout",
     "output_type": "stream",
     "text": [
      "<class 'pandas.core.frame.DataFrame'>\n",
      "RangeIndex: 12279 entries, 0 to 12278\n",
      "Data columns (total 2 columns):\n",
      " #   Column      Non-Null Count  Dtype \n",
      "---  ------      --------------  ----- \n",
      " 0   mensaje     12279 non-null  object\n",
      " 1   intensidad  12279 non-null  int64 \n",
      "dtypes: int64(1), object(1)\n",
      "memory usage: 192.0+ KB\n"
     ]
    }
   ],
   "source": [
    "data.info()"
   ]
  },
  {
   "cell_type": "markdown",
   "metadata": {
    "id": "uDpDVmNAkNDZ"
   },
   "source": [
    "Mostramos ahora la distribución de mensajes de acuerdo a su intensidad. Verás rápidamente que estamos en problemas: hay un gran desbalanceo."
   ]
  },
  {
   "cell_type": "code",
   "execution_count": null,
   "metadata": {
    "id": "HATeYyBcnTry"
   },
   "outputs": [
    {
     "data": {
      "image/png": "[encoded data removed]",
      "text/plain": [
       "<Figure size 640x480 with 1 Axes>"
      ]
     },
     "metadata": {},
     "output_type": "display_data"
    }
   ],
   "source": [
    "plt.pie(data['intensidad'].value_counts().values,\n",
    "        labels = data['intensidad'].value_counts().index,\n",
    "        autopct='%1.1f%%')\n",
    "plt.show()"
   ]
  },
  {
   "cell_type": "markdown",
   "metadata": {
    "id": "fTYQhBW_keNX"
   },
   "source": [
    "Para hacer todo más sencillo y evitar asociaciones indeseadas, vamos a trabajar solo con minúsculas. Además, quitamos los signos de puntuación de los mensajes"
   ]
  },
  {
   "cell_type": "code",
   "execution_count": null,
   "metadata": {
    "id": "q-uS0vz0pxW2"
   },
   "outputs": [
    {
     "data": {
      "text/html": [
       "<div>\n",
       "<style scoped>\n",
       "    .dataframe tbody tr th:only-of-type {\n",
       "        vertical-align: middle;\n",
       "    }\n",
       "\n",
       "    .dataframe tbody tr th {\n",
       "        vertical-align: top;\n",
       "    }\n",
       "\n",
       "    .dataframe thead th {\n",
       "        text-align: right;\n",
       "    }\n",
       "</style>\n",
       "<table border=\"1\" class=\"dataframe\">\n",
       "  <thead>\n",
       "    <tr style=\"text-align: right;\">\n",
       "      <th></th>\n",
       "      <th>mensaje</th>\n",
       "      <th>intensidad</th>\n",
       "    </tr>\n",
       "  </thead>\n",
       "  <tbody>\n",
       "    <tr>\n",
       "      <th>0</th>\n",
       "      <td>cristina cifuentes podrí­a haber sido la presi...</td>\n",
       "      <td>3</td>\n",
       "    </tr>\n",
       "    <tr>\n",
       "      <th>1</th>\n",
       "      <td>habrí­a que reabrir el caso el supremo se dedi...</td>\n",
       "      <td>3</td>\n",
       "    </tr>\n",
       "    <tr>\n",
       "      <th>2</th>\n",
       "      <td>me parece un poco exagerado pedir más de tres ...</td>\n",
       "      <td>3</td>\n",
       "    </tr>\n",
       "    <tr>\n",
       "      <th>3</th>\n",
       "      <td>parece que todos los delincuentes niegan las e...</td>\n",
       "      <td>3</td>\n",
       "    </tr>\n",
       "    <tr>\n",
       "      <th>4</th>\n",
       "      <td>preguntárselo al fracasado media carrera en 6 ...</td>\n",
       "      <td>4</td>\n",
       "    </tr>\n",
       "  </tbody>\n",
       "</table>\n",
       "</div>"
      ],
      "text/plain": [
       "                                             mensaje  intensidad\n",
       "0  cristina cifuentes podrí­a haber sido la presi...           3\n",
       "1  habrí­a que reabrir el caso el supremo se dedi...           3\n",
       "2  me parece un poco exagerado pedir más de tres ...           3\n",
       "3  parece que todos los delincuentes niegan las e...           3\n",
       "4  preguntárselo al fracasado media carrera en 6 ...           4"
      ]
     },
     "execution_count": 7,
     "metadata": {},
     "output_type": "execute_result"
    }
   ],
   "source": [
    "# Convertimos a minúsculas\n",
    "data['mensaje'] = data['mensaje'].map(lambda x: x.lower())\n",
    "\n",
    "# Función para eliminar signos de puntuación\n",
    "def eliminar_signos(texto):\n",
    "    return re.sub(f\"[{re.escape(string.punctuation)}]\", \"\", texto)\n",
    "\n",
    "# Aplicamos la función al dataset\n",
    "data['mensaje'] = data['mensaje'].map(eliminar_signos)\n",
    "data.head()\n"
   ]
  },
  {
   "cell_type": "markdown",
   "metadata": {
    "id": "MjXltaASlHiK"
   },
   "source": [
    "Eliminamos las \"stopwords\" o palabras vacías. Las stopwords son palabras comunes que, en general, no contienen información relevante para el análisis de texto y suelen ser filtradas antes de procesar los datos. Ejemplos típicos de stopwords en español son: \"el\", \"la\", \"los\", \"las\", \"un\", \"una\", \"de\", \"y\", \"o\", etc."
   ]
  },
  {
   "cell_type": "code",
   "execution_count": null,
   "metadata": {
    "id": "O4eVyt4eq2dA"
   },
   "outputs": [
    {
     "data": {
      "text/html": [
       "<div>\n",
       "<style scoped>\n",
       "    .dataframe tbody tr th:only-of-type {\n",
       "        vertical-align: middle;\n",
       "    }\n",
       "\n",
       "    .dataframe tbody tr th {\n",
       "        vertical-align: top;\n",
       "    }\n",
       "\n",
       "    .dataframe thead th {\n",
       "        text-align: right;\n",
       "    }\n",
       "</style>\n",
       "<table border=\"1\" class=\"dataframe\">\n",
       "  <thead>\n",
       "    <tr style=\"text-align: right;\">\n",
       "      <th></th>\n",
       "      <th>mensaje</th>\n",
       "      <th>intensidad</th>\n",
       "    </tr>\n",
       "  </thead>\n",
       "  <tbody>\n",
       "    <tr>\n",
       "      <th>0</th>\n",
       "      <td>cristina cifuentes podrí­a haber sido presiden...</td>\n",
       "      <td>3</td>\n",
       "    </tr>\n",
       "    <tr>\n",
       "      <th>1</th>\n",
       "      <td>habrí­a reabrir caso supremo dedica proteger s...</td>\n",
       "      <td>3</td>\n",
       "    </tr>\n",
       "    <tr>\n",
       "      <th>2</th>\n",
       "      <td>parece exagerado pedir tres años prisión cifue...</td>\n",
       "      <td>3</td>\n",
       "    </tr>\n",
       "    <tr>\n",
       "      <th>3</th>\n",
       "      <td>parece delincuentes niegan evidencias pruebas ...</td>\n",
       "      <td>3</td>\n",
       "    </tr>\n",
       "    <tr>\n",
       "      <th>4</th>\n",
       "      <td>preguntárselo fracasado medium carrera 6 meses...</td>\n",
       "      <td>4</td>\n",
       "    </tr>\n",
       "  </tbody>\n",
       "</table>\n",
       "</div>"
      ],
      "text/plain": [
       "                                             mensaje  intensidad\n",
       "0  cristina cifuentes podrí­a haber sido presiden...           3\n",
       "1  habrí­a reabrir caso supremo dedica proteger s...           3\n",
       "2  parece exagerado pedir tres años prisión cifue...           3\n",
       "3  parece delincuentes niegan evidencias pruebas ...           3\n",
       "4  preguntárselo fracasado medium carrera 6 meses...           4"
      ]
     },
     "execution_count": 8,
     "metadata": {},
     "output_type": "execute_result"
    }
   ],
   "source": [
    "# Obtenemos las stopwords en español\n",
    "stop_words = set(stopwords.words('spanish'))\n",
    "lemmatizer = WordNetLemmatizer()\n",
    "\n",
    "# Definimos una función para eliminar stopwords y lematizar\n",
    "def filtrar_palabras(texto):\n",
    "    palabras_filtradas = []\n",
    "    for palabra in texto.split():\n",
    "        if palabra not in stop_words:\n",
    "            palabra_lema = lemmatizer.lemmatize(palabra)\n",
    "            palabras_filtradas.append(palabra_lema)\n",
    "    return ' '.join(palabras_filtradas)\n",
    "\n",
    "# Aplicamos la función\n",
    "data['mensaje'] = data['mensaje'].apply(filtrar_palabras)\n",
    "data.head()\n"
   ]
  },
  {
   "cell_type": "markdown",
   "metadata": {
    "id": "ucxI_eXQlZ_1"
   },
   "source": [
    "Creamos los conjuntos de entrenamiento y de test:"
   ]
  },
  {
   "cell_type": "code",
   "execution_count": null,
   "metadata": {
    "id": "FZxfXScRYVts"
   },
   "outputs": [],
   "source": [
    "X = data['mensaje']\n",
    "y = data['intensidad']\n",
    "\n",
    "# Dividimos el dataset en conjuntos de entrenamiento y prueba\n",
    "X_train, X_test, y_train, y_test = train_test_split(X, y, test_size=0.2, random_state=42)\n",
    "\n",
    "# Convertimos a numpy arrays\n",
    "X_train = X_train.values\n",
    "X_test = X_test.values\n",
    "y_train = y_train.values\n",
    "y_test = y_test.values\n",
    "\n",
    "# Creamos datasets de TensorFlow\n",
    "train_dataset = tf.data.Dataset.from_tensor_slices((X_train, y_train))\n",
    "test_dataset = tf.data.Dataset.from_tensor_slices((X_test, y_test))\n"
   ]
  },
  {
   "cell_type": "markdown",
   "metadata": {
    "id": "NTEHtlXpnCOI"
   },
   "source": [
    "Mostramos un mensaje y su intensidad, simplemente para ver que todo va bien:"
   ]
  },
  {
   "cell_type": "code",
   "execution_count": null,
   "metadata": {
    "id": "WWz4VaBCYsjL"
   },
   "outputs": [
    {
     "name": "stdout",
     "output_type": "stream",
     "text": [
      "mensaje:  b'tarado abascal dice gran lider tarado trump'\n",
      "nivel de odio:  4\n"
     ]
    }
   ],
   "source": [
    "for men, inte in train_dataset.take(1):\n",
    "  print('mensaje: ', men.numpy())\n",
    "  print('nivel de odio: ', inte.numpy())\n"
   ]
  },
  {
   "cell_type": "markdown",
   "metadata": {
    "id": "iGisxv3GnZvN"
   },
   "source": [
    "Mezclamos los datos de forma aleatoria:"
   ]
  },
  {
   "cell_type": "code",
   "execution_count": null,
   "metadata": {
    "id": "ecZdI0CFYz1Y"
   },
   "outputs": [],
   "source": [
    "BUFFER_SIZE = 10000\n",
    "BATCH_SIZE = 64\n"
   ]
  },
  {
   "cell_type": "code",
   "execution_count": null,
   "metadata": {
    "id": "wOJwWckbY9ns"
   },
   "outputs": [],
   "source": [
    "train_dataset = train_dataset.shuffle(BUFFER_SIZE).batch(BATCH_SIZE).prefetch(tf.data.AUTOTUNE)\n",
    "test_dataset = test_dataset.batch(BATCH_SIZE).prefetch(tf.data.AUTOTUNE)\n"
   ]
  },
  {
   "cell_type": "code",
   "execution_count": null,
   "metadata": {
    "id": "mGW0FVeyY_fZ"
   },
   "outputs": [
    {
     "name": "stdout",
     "output_type": "stream",
     "text": [
      "mensaje:  [b'valdr\\xc3\\xa1 perd\\xc3\\xb3n pid\\xc3\\xa1is periodismo sociedad panfleto'\n",
      " b't\\xc3\\xad\\xc2\\xado tonto' b'lavanguardia madrit en roba paletos']\n",
      "\n",
      "nivel de odio:  [4 4 4]\n"
     ]
    }
   ],
   "source": [
    "for men, inte in train_dataset.take(1):\n",
    "  print('mensaje: ', men.numpy()[:3])\n",
    "  print()\n",
    "  print('nivel de odio: ', inte.numpy()[:3])\n"
   ]
  },
  {
   "cell_type": "markdown",
   "metadata": {
    "id": "dwTWx49snn-L"
   },
   "source": [
    "Definimos y configuramos un codificador de texto utilizando la capa TextVectorization"
   ]
  },
  {
   "cell_type": "code",
   "execution_count": null,
   "metadata": {
    "id": "V8W8LqSRZCnl"
   },
   "outputs": [],
   "source": [
    "# Empezamos definiendo el tamaño del vocabulario\n",
    "tamaño_vocabulario = 1000\n",
    "\n",
    "# Creamos una capa de vectorización de texto\n",
    "vectorizador = tf.keras.layers.TextVectorization(\n",
    "    max_tokens=tamaño_vocabulario\n",
    ")\n",
    "\n",
    "# Se extraen solo los textos del conjunto de datos de entrenamiento\n",
    "def extraer_texto(texto, etiqueta):\n",
    "    return texto\n",
    "\n",
    "# Adaptamos el vectorizador al texto del conjunto de datos de entrenamiento\n",
    "dataset_texto = train_dataset.map(extraer_texto)\n",
    "vectorizador.adapt(dataset_texto)\n"
   ]
  },
  {
   "cell_type": "code",
   "execution_count": null,
   "metadata": {
    "id": "ps6hMfc3ZII1"
   },
   "outputs": [
    {
     "data": {
      "text/plain": [
       "array(['', '[UNK]', 'si', 'mierda', 'puta', 'ser', 'asco', 'gobierno',\n",
       "       'panfleto', 'q', 'españa', 'paí\\xads', 'gente', 'vergüenza',\n",
       "       'gentuza', 'vaya', 'basura', 'va', 'gilipollas', 'solo'],\n",
       "      dtype='<U25')"
      ]
     },
     "execution_count": 15,
     "metadata": {},
     "output_type": "execute_result"
    }
   ],
   "source": [
    "# Obtenemos el vocabulario aprendido por la capa de vectorización\n",
    "vocabulario = np.array(vectorizador.get_vocabulary())\n",
    "\n",
    "# Mostramos las primeras 20 palabras del vocabulario\n",
    "primeras_20_palabras = vocabulario[:20]\n",
    "primeras_20_palabras\n"
   ]
  },
  {
   "cell_type": "markdown",
   "metadata": {
    "id": "n1ztdBqGo6xb"
   },
   "source": [
    "# Ejercicio\n",
    "\n",
    "Construye una RNN que pueda detectar el nivel de odio de un mensaje.\n",
    "\n",
    "**Tenéis plena liberta para realizar la red y para hacer cualquier modificación a los datos.**"
   ]
  },
  {
   "cell_type": "code",
   "execution_count": null,
   "metadata": {},
   "outputs": [],
   "source": [
    "#Importamos las librerias\n",
    "\n",
    "import tensorflow as tf\n",
    "from tensorflow.keras.models import Model\n",
    "from tensorflow.keras.layers import TextVectorization, Embedding, LSTM, Dense, Dropout, GlobalAveragePooling1D, Input\n",
    "from tensorflow.keras.optimizers import Adam\n",
    "import pandas as pd\n",
    "from sklearn.model_selection import train_test_split\n"
   ]
  },
  {
   "cell_type": "code",
   "execution_count": null,
   "metadata": {},
   "outputs": [
    {
     "data": {
      "text/html": [
       "<div>\n",
       "<style scoped>\n",
       "    .dataframe tbody tr th:only-of-type {\n",
       "        vertical-align: middle;\n",
       "    }\n",
       "\n",
       "    .dataframe tbody tr th {\n",
       "        vertical-align: top;\n",
       "    }\n",
       "\n",
       "    .dataframe thead th {\n",
       "        text-align: right;\n",
       "    }\n",
       "</style>\n",
       "<table border=\"1\" class=\"dataframe\">\n",
       "  <thead>\n",
       "    <tr style=\"text-align: right;\">\n",
       "      <th></th>\n",
       "      <th>mensaje</th>\n",
       "      <th>intensidad</th>\n",
       "    </tr>\n",
       "  </thead>\n",
       "  <tbody>\n",
       "    <tr>\n",
       "      <th>0</th>\n",
       "      <td>cristina cifuentes podrí­a haber sido presiden...</td>\n",
       "      <td>3</td>\n",
       "    </tr>\n",
       "    <tr>\n",
       "      <th>1</th>\n",
       "      <td>habrí­a reabrir caso supremo dedica proteger s...</td>\n",
       "      <td>3</td>\n",
       "    </tr>\n",
       "    <tr>\n",
       "      <th>2</th>\n",
       "      <td>parece exagerado pedir tres años prisión cifue...</td>\n",
       "      <td>3</td>\n",
       "    </tr>\n",
       "    <tr>\n",
       "      <th>3</th>\n",
       "      <td>parece delincuentes niegan evidencias pruebas ...</td>\n",
       "      <td>3</td>\n",
       "    </tr>\n",
       "    <tr>\n",
       "      <th>4</th>\n",
       "      <td>preguntárselo fracasado medium carrera 6 meses...</td>\n",
       "      <td>4</td>\n",
       "    </tr>\n",
       "  </tbody>\n",
       "</table>\n",
       "</div>"
      ],
      "text/plain": [
       "                                             mensaje  intensidad\n",
       "0  cristina cifuentes podrí­a haber sido presiden...           3\n",
       "1  habrí­a reabrir caso supremo dedica proteger s...           3\n",
       "2  parece exagerado pedir tres años prisión cifue...           3\n",
       "3  parece delincuentes niegan evidencias pruebas ...           3\n",
       "4  preguntárselo fracasado medium carrera 6 meses...           4"
      ]
     },
     "execution_count": 17,
     "metadata": {},
     "output_type": "execute_result"
    }
   ],
   "source": [
    "data.head()"
   ]
  },
  {
   "cell_type": "code",
   "execution_count": null,
   "metadata": {},
   "outputs": [
    {
     "name": "stdout",
     "output_type": "stream",
     "text": [
      "Porcentaje de cada intensidad en el dataset:\n",
      "intensidad\n",
      "4    84.49\n",
      "1    11.20\n",
      "5     1.71\n",
      "3     1.40\n",
      "2     1.21\n",
      "Name: proportion, dtype: float64\n"
     ]
    }
   ],
   "source": [
    "porcentaje_intensidades = data[\"intensidad\"].value_counts(normalize=True) * 100\n",
    "porcentaje_intensidades = porcentaje_intensidades.round(2)\n",
    "\n",
    "print(\"Porcentaje de cada intensidad en el dataset:\")\n",
    "print(porcentaje_intensidades)\n"
   ]
  },
  {
   "cell_type": "markdown",
   "metadata": {},
   "source": [
    "Podemos observar que el dataset está desbalanceado, lo que afectará nuestro modelo."
   ]
  },
  {
   "cell_type": "code",
   "execution_count": null,
   "metadata": {},
   "outputs": [
    {
     "data": {
      "text/html": [
       "<pre style=\"white-space:pre;overflow-x:auto;line-height:normal;font-family:Menlo,'DejaVu Sans Mono',consolas,'Courier New',monospace\"><span style=\"font-weight: bold\">Model: \"functional_2\"</span>\n",
       "</pre>\n"
      ],
      "text/plain": [
       "\u001b[1mModel: \"functional_2\"\u001b[0m\n"
      ]
     },
     "metadata": {},
     "output_type": "display_data"
    },
    {
     "data": {
      "text/html": [
       "<pre style=\"white-space:pre;overflow-x:auto;line-height:normal;font-family:Menlo,'DejaVu Sans Mono',consolas,'Courier New',monospace\">┏━━━━━━━━━━━━━━━━━━━━━━━━━━━━━━━━━┳━━━━━━━━━━━━━━━━━━━━━━━━┳━━━━━━━━━━━━━━━┓\n",
       "┃<span style=\"font-weight: bold\"> Layer (type)                    </span>┃<span style=\"font-weight: bold\"> Output Shape           </span>┃<span style=\"font-weight: bold\">       Param # </span>┃\n",
       "┡━━━━━━━━━━━━━━━━━━━━━━━━━━━━━━━━━╇━━━━━━━━━━━━━━━━━━━━━━━━╇━━━━━━━━━━━━━━━┩\n",
       "│ input_layer_3 (<span style=\"color: #0087ff; text-decoration-color: #0087ff\">InputLayer</span>)      │ (<span style=\"color: #00d7ff; text-decoration-color: #00d7ff\">None</span>, <span style=\"color: #00af00; text-decoration-color: #00af00\">1</span>)              │             <span style=\"color: #00af00; text-decoration-color: #00af00\">0</span> │\n",
       "├─────────────────────────────────┼────────────────────────┼───────────────┤\n",
       "│ text_vectorization_4            │ (<span style=\"color: #00d7ff; text-decoration-color: #00d7ff\">None</span>, <span style=\"color: #00af00; text-decoration-color: #00af00\">10</span>)             │             <span style=\"color: #00af00; text-decoration-color: #00af00\">0</span> │\n",
       "│ (<span style=\"color: #0087ff; text-decoration-color: #0087ff\">TextVectorization</span>)             │                        │               │\n",
       "├─────────────────────────────────┼────────────────────────┼───────────────┤\n",
       "│ embedding_3 (<span style=\"color: #0087ff; text-decoration-color: #0087ff\">Embedding</span>)         │ (<span style=\"color: #00d7ff; text-decoration-color: #00d7ff\">None</span>, <span style=\"color: #00af00; text-decoration-color: #00af00\">10</span>, <span style=\"color: #00af00; text-decoration-color: #00af00\">128</span>)        │       <span style=\"color: #00af00; text-decoration-color: #00af00\">640,000</span> │\n",
       "├─────────────────────────────────┼────────────────────────┼───────────────┤\n",
       "│ lstm_2 (<span style=\"color: #0087ff; text-decoration-color: #0087ff\">LSTM</span>)                   │ (<span style=\"color: #00d7ff; text-decoration-color: #00d7ff\">None</span>, <span style=\"color: #00af00; text-decoration-color: #00af00\">10</span>, <span style=\"color: #00af00; text-decoration-color: #00af00\">128</span>)        │       <span style=\"color: #00af00; text-decoration-color: #00af00\">131,584</span> │\n",
       "├─────────────────────────────────┼────────────────────────┼───────────────┤\n",
       "│ global_average_pooling1d_2      │ (<span style=\"color: #00d7ff; text-decoration-color: #00d7ff\">None</span>, <span style=\"color: #00af00; text-decoration-color: #00af00\">128</span>)            │             <span style=\"color: #00af00; text-decoration-color: #00af00\">0</span> │\n",
       "│ (<span style=\"color: #0087ff; text-decoration-color: #0087ff\">GlobalAveragePooling1D</span>)        │                        │               │\n",
       "├─────────────────────────────────┼────────────────────────┼───────────────┤\n",
       "│ dropout_4 (<span style=\"color: #0087ff; text-decoration-color: #0087ff\">Dropout</span>)             │ (<span style=\"color: #00d7ff; text-decoration-color: #00d7ff\">None</span>, <span style=\"color: #00af00; text-decoration-color: #00af00\">128</span>)            │             <span style=\"color: #00af00; text-decoration-color: #00af00\">0</span> │\n",
       "├─────────────────────────────────┼────────────────────────┼───────────────┤\n",
       "│ dense_4 (<span style=\"color: #0087ff; text-decoration-color: #0087ff\">Dense</span>)                 │ (<span style=\"color: #00d7ff; text-decoration-color: #00d7ff\">None</span>, <span style=\"color: #00af00; text-decoration-color: #00af00\">64</span>)             │         <span style=\"color: #00af00; text-decoration-color: #00af00\">8,256</span> │\n",
       "├─────────────────────────────────┼────────────────────────┼───────────────┤\n",
       "│ dense_5 (<span style=\"color: #0087ff; text-decoration-color: #0087ff\">Dense</span>)                 │ (<span style=\"color: #00d7ff; text-decoration-color: #00d7ff\">None</span>, <span style=\"color: #00af00; text-decoration-color: #00af00\">1</span>)              │            <span style=\"color: #00af00; text-decoration-color: #00af00\">65</span> │\n",
       "└─────────────────────────────────┴────────────────────────┴───────────────┘\n",
       "</pre>\n"
      ],
      "text/plain": [
       "┏━━━━━━━━━━━━━━━━━━━━━━━━━━━━━━━━━┳━━━━━━━━━━━━━━━━━━━━━━━━┳━━━━━━━━━━━━━━━┓\n",
       "┃\u001b[1m \u001b[0m\u001b[1mLayer (type)                   \u001b[0m\u001b[1m \u001b[0m┃\u001b[1m \u001b[0m\u001b[1mOutput Shape          \u001b[0m\u001b[1m \u001b[0m┃\u001b[1m \u001b[0m\u001b[1m      Param #\u001b[0m\u001b[1m \u001b[0m┃\n",
       "┡━━━━━━━━━━━━━━━━━━━━━━━━━━━━━━━━━╇━━━━━━━━━━━━━━━━━━━━━━━━╇━━━━━━━━━━━━━━━┩\n",
       "│ input_layer_3 (\u001b[38;5;33mInputLayer\u001b[0m)      │ (\u001b[38;5;45mNone\u001b[0m, \u001b[38;5;34m1\u001b[0m)              │             \u001b[38;5;34m0\u001b[0m │\n",
       "├─────────────────────────────────┼────────────────────────┼───────────────┤\n",
       "│ text_vectorization_4            │ (\u001b[38;5;45mNone\u001b[0m, \u001b[38;5;34m10\u001b[0m)             │             \u001b[38;5;34m0\u001b[0m │\n",
       "│ (\u001b[38;5;33mTextVectorization\u001b[0m)             │                        │               │\n",
       "├─────────────────────────────────┼────────────────────────┼───────────────┤\n",
       "│ embedding_3 (\u001b[38;5;33mEmbedding\u001b[0m)         │ (\u001b[38;5;45mNone\u001b[0m, \u001b[38;5;34m10\u001b[0m, \u001b[38;5;34m128\u001b[0m)        │       \u001b[38;5;34m640,000\u001b[0m │\n",
       "├─────────────────────────────────┼────────────────────────┼───────────────┤\n",
       "│ lstm_2 (\u001b[38;5;33mLSTM\u001b[0m)                   │ (\u001b[38;5;45mNone\u001b[0m, \u001b[38;5;34m10\u001b[0m, \u001b[38;5;34m128\u001b[0m)        │       \u001b[38;5;34m131,584\u001b[0m │\n",
       "├─────────────────────────────────┼────────────────────────┼───────────────┤\n",
       "│ global_average_pooling1d_2      │ (\u001b[38;5;45mNone\u001b[0m, \u001b[38;5;34m128\u001b[0m)            │             \u001b[38;5;34m0\u001b[0m │\n",
       "│ (\u001b[38;5;33mGlobalAveragePooling1D\u001b[0m)        │                        │               │\n",
       "├─────────────────────────────────┼────────────────────────┼───────────────┤\n",
       "│ dropout_4 (\u001b[38;5;33mDropout\u001b[0m)             │ (\u001b[38;5;45mNone\u001b[0m, \u001b[38;5;34m128\u001b[0m)            │             \u001b[38;5;34m0\u001b[0m │\n",
       "├─────────────────────────────────┼────────────────────────┼───────────────┤\n",
       "│ dense_4 (\u001b[38;5;33mDense\u001b[0m)                 │ (\u001b[38;5;45mNone\u001b[0m, \u001b[38;5;34m64\u001b[0m)             │         \u001b[38;5;34m8,256\u001b[0m │\n",
       "├─────────────────────────────────┼────────────────────────┼───────────────┤\n",
       "│ dense_5 (\u001b[38;5;33mDense\u001b[0m)                 │ (\u001b[38;5;45mNone\u001b[0m, \u001b[38;5;34m1\u001b[0m)              │            \u001b[38;5;34m65\u001b[0m │\n",
       "└─────────────────────────────────┴────────────────────────┴───────────────┘\n"
      ]
     },
     "metadata": {},
     "output_type": "display_data"
    },
    {
     "data": {
      "text/html": [
       "<pre style=\"white-space:pre;overflow-x:auto;line-height:normal;font-family:Menlo,'DejaVu Sans Mono',consolas,'Courier New',monospace\"><span style=\"font-weight: bold\"> Total params: </span><span style=\"color: #00af00; text-decoration-color: #00af00\">779,905</span> (2.98 MB)\n",
       "</pre>\n"
      ],
      "text/plain": [
       "\u001b[1m Total params: \u001b[0m\u001b[38;5;34m779,905\u001b[0m (2.98 MB)\n"
      ]
     },
     "metadata": {},
     "output_type": "display_data"
    },
    {
     "data": {
      "text/html": [
       "<pre style=\"white-space:pre;overflow-x:auto;line-height:normal;font-family:Menlo,'DejaVu Sans Mono',consolas,'Courier New',monospace\"><span style=\"font-weight: bold\"> Trainable params: </span><span style=\"color: #00af00; text-decoration-color: #00af00\">779,905</span> (2.98 MB)\n",
       "</pre>\n"
      ],
      "text/plain": [
       "\u001b[1m Trainable params: \u001b[0m\u001b[38;5;34m779,905\u001b[0m (2.98 MB)\n"
      ]
     },
     "metadata": {},
     "output_type": "display_data"
    },
    {
     "data": {
      "text/html": [
       "<pre style=\"white-space:pre;overflow-x:auto;line-height:normal;font-family:Menlo,'DejaVu Sans Mono',consolas,'Courier New',monospace\"><span style=\"font-weight: bold\"> Non-trainable params: </span><span style=\"color: #00af00; text-decoration-color: #00af00\">0</span> (0.00 B)\n",
       "</pre>\n"
      ],
      "text/plain": [
       "\u001b[1m Non-trainable params: \u001b[0m\u001b[38;5;34m0\u001b[0m (0.00 B)\n"
      ]
     },
     "metadata": {},
     "output_type": "display_data"
    }
   ],
   "source": [
    "# Parámetros del modelo\n",
    "tamaño_vocabulario = 5000     \n",
    "dim_embedding = 128  \n",
    "tamaño_lstm = 128  \n",
    "learning_rate = 0.0001  \n",
    "\n",
    "\n",
    "# Extraemos los mensajes\n",
    "textos = data[\"mensaje\"].astype(str).tolist()  \n",
    "\n",
    "# Capa de vectorización con salida de longitud fija=10 (así lo acordamos como grupo pero puede modificarse)\n",
    "vectorizador = TextVectorization(\n",
    "    max_tokens=tamaño_vocabulario, \n",
    "    output_mode=\"int\", \n",
    "    output_sequence_length=10\n",
    ")\n",
    "vectorizador.adapt(textos)\n",
    "\n",
    "# Definimos la entrada\n",
    "entrada_texto = Input(shape=(1,), dtype=tf.string)\n",
    "\n",
    "# Construimos el modelo\n",
    "x = vectorizador(entrada_texto)                                    \n",
    "x = Embedding(input_dim=tamaño_vocabulario, output_dim=dim_embedding)(x)  \n",
    "x = LSTM(tamaño_lstm, return_sequences=True)(x)                     \n",
    "x = GlobalAveragePooling1D()(x)                                   \n",
    "x = Dropout(0.3)(x)\n",
    "x = Dense(64, activation=\"relu\")(x)\n",
    "salida = Dense(1, activation=\"linear\")(x)                           \n",
    "\n",
    "modelo = Model(inputs=entrada_texto, outputs=salida)\n",
    "modelo.compile(optimizer=Adam(learning_rate=learning_rate), loss=\"mse\", metrics=[\"mae\"])\n",
    "\n",
    "# Mostramos la estructura del modelo\n",
    "modelo.summary()\n"
   ]
  },
  {
   "cell_type": "markdown",
   "metadata": {},
   "source": [
    "El primer paso para la construcción de nuestra RNN consiste en lo siguiente:\n",
    "\n",
    "* Establecimos el tamaño del vocabulario en 5000, lo que significa que la capa de vectorización reconocerá hasta 5000 palabras únicas, permitiendo una mayor cobertura.\n",
    "* Definimos la dimensión del embedding en 128, de manera que cada palabra se representará mediante un vector de 128 números.\n",
    "* La capa LSTM cuenta con 128 unidades, lo que posibilita analizar las relaciones entre las palabras dentro de la secuencia.\n",
    "* Extraímos los textos del dataset, asegurándonos de que sean de tipo string, y creamos la capa TextVectorization, que convierte el texto en una representación numérica.\n",
    "* Adaptamos el vectorizador con esos textos para que la capa aprenda el vocabulario presente en los datos.\n",
    "* Establecimos la entrada del modelo como un tensor de forma (1,) y de tipo string, ya que los datos son textos sin procesar.\n",
    "* Configuramos las capas del modelo en el siguiente orden:\n",
    "     * TextVectorization\n",
    "     * Embedding\n",
    "     * LSTM\n",
    "     * Dropout \n",
    "     * Dense 64 con activación ReLU\n",
    "     * Dense 1 como capa de salida, que predice un valor numérico indicando la intensidad del odio en el mensaje.\n",
    "\n",
    "* Para la compilación del modelo utilizamos el optimizador Adam, la función de pérdida MSE y la métrica MAE.\n",
    "* Finalmente, imprimimos la estructura del modelo para verificar las dimensiones de cada capa; los resultados mostraron un total de 267,905 parámetros, que son los valores ajustados durante el entrenamiento.\n",
    "\n",
    "\n",
    ".\n"
   ]
  },
  {
   "cell_type": "code",
   "execution_count": null,
   "metadata": {},
   "outputs": [
    {
     "name": "stdout",
     "output_type": "stream",
     "text": [
      "Epoch 1/10\n",
      "\u001b[1m154/154\u001b[0m \u001b[32m━━━━━━━━━━━━━━━━━━━━\u001b[0m\u001b[37m\u001b[0m \u001b[1m3s\u001b[0m 11ms/step - loss: 11.4641 - mae: 3.1526 - val_loss: 1.9830 - val_mae: 1.0898\n",
      "Epoch 2/10\n",
      "\u001b[1m154/154\u001b[0m \u001b[32m━━━━━━━━━━━━━━━━━━━━\u001b[0m\u001b[37m\u001b[0m \u001b[1m2s\u001b[0m 10ms/step - loss: 1.6835 - mae: 0.9947 - val_loss: 1.1486 - val_mae: 0.7581\n",
      "Epoch 3/10\n",
      "\u001b[1m154/154\u001b[0m \u001b[32m━━━━━━━━━━━━━━━━━━━━\u001b[0m\u001b[37m\u001b[0m \u001b[1m2s\u001b[0m 10ms/step - loss: 1.1578 - mae: 0.7720 - val_loss: 0.9472 - val_mae: 0.6433\n",
      "Epoch 4/10\n",
      "\u001b[1m154/154\u001b[0m \u001b[32m━━━━━━━━━━━━━━━━━━━━\u001b[0m\u001b[37m\u001b[0m \u001b[1m2s\u001b[0m 10ms/step - loss: 0.9691 - mae: 0.6776 - val_loss: 0.8144 - val_mae: 0.5833\n",
      "Epoch 5/10\n",
      "\u001b[1m154/154\u001b[0m \u001b[32m━━━━━━━━━━━━━━━━━━━━\u001b[0m\u001b[37m\u001b[0m \u001b[1m2s\u001b[0m 10ms/step - loss: 0.8477 - mae: 0.6169 - val_loss: 0.7724 - val_mae: 0.5794\n",
      "Epoch 6/10\n",
      "\u001b[1m154/154\u001b[0m \u001b[32m━━━━━━━━━━━━━━━━━━━━\u001b[0m\u001b[37m\u001b[0m \u001b[1m2s\u001b[0m 10ms/step - loss: 0.7558 - mae: 0.5891 - val_loss: 0.7566 - val_mae: 0.5690\n",
      "Epoch 7/10\n",
      "\u001b[1m154/154\u001b[0m \u001b[32m━━━━━━━━━━━━━━━━━━━━\u001b[0m\u001b[37m\u001b[0m \u001b[1m2s\u001b[0m 10ms/step - loss: 0.7013 - mae: 0.5661 - val_loss: 0.7525 - val_mae: 0.5614\n",
      "Epoch 8/10\n",
      "\u001b[1m154/154\u001b[0m \u001b[32m━━━━━━━━━━━━━━━━━━━━\u001b[0m\u001b[37m\u001b[0m \u001b[1m2s\u001b[0m 10ms/step - loss: 0.6429 - mae: 0.5453 - val_loss: 0.7626 - val_mae: 0.5704\n",
      "Epoch 9/10\n",
      "\u001b[1m154/154\u001b[0m \u001b[32m━━━━━━━━━━━━━━━━━━━━\u001b[0m\u001b[37m\u001b[0m \u001b[1m2s\u001b[0m 10ms/step - loss: 0.5980 - mae: 0.5303 - val_loss: 0.7770 - val_mae: 0.5753\n",
      "Epoch 10/10\n",
      "\u001b[1m154/154\u001b[0m \u001b[32m━━━━━━━━━━━━━━━━━━━━\u001b[0m\u001b[37m\u001b[0m \u001b[1m2s\u001b[0m 10ms/step - loss: 0.5602 - mae: 0.5174 - val_loss: 0.7946 - val_mae: 0.5744\n",
      "\u001b[1m39/39\u001b[0m \u001b[32m━━━━━━━━━━━━━━━━━━━━\u001b[0m\u001b[37m\u001b[0m \u001b[1m0s\u001b[0m 5ms/step - loss: 0.8343 - mae: 0.5876 \n",
      "Pérdida: 0.7946, MAE: 0.5744\n"
     ]
    }
   ],
   "source": [
    "# Dividimos el dataset en entrenamiento y prueba con 80 - 20\n",
    "X_train, X_test, y_train, y_test = train_test_split(data[\"mensaje\"], data[\"intensidad\"], test_size=0.2, random_state=42)\n",
    "\n",
    "# Convertimos los datos a tensores de TensorFlow con batching y prefetch\n",
    "train_dataset = tf.data.Dataset.from_tensor_slices((X_train, y_train)).batch(64).prefetch(tf.data.AUTOTUNE)\n",
    "test_dataset = tf.data.Dataset.from_tensor_slices((X_test, y_test)).batch(64).prefetch(tf.data.AUTOTUNE)\n",
    "\n",
    "# Entrenamos el modelo\n",
    "modelo.fit(train_dataset, epochs=10, validation_data=test_dataset)\n",
    "\n",
    "# Evaluamos el modelo\n",
    "loss, mae = modelo.evaluate(test_dataset)\n",
    "print(f\"Pérdida: {loss:.4f}, MAE: {mae:.4f}\")\n",
    "\n"
   ]
  },
  {
   "cell_type": "markdown",
   "metadata": {},
   "source": [
    "Los resultados del entrenamiento son los siguientes:\n",
    "\n",
    "* En la Epoch 1 la pérdida (loss) es de 11.4641 y MAE 3.1526 lo que nos indica que el modelo presenta errores altos (tanto en pérdida como en error medio absoluto). Podemos considerar que el comportamiento es normal, ya que aún no ha aprendido las representaciones relevantes del texto.\n",
    "* De las Epoch 2 a la 10 observamos una rápida disminución en la pérdida y el MAE. Observamos que conforme avanzan las Epochs, estos valores continúan reduciéndose.\n",
    "* En la Epoch 10 la pérdida en entrenamiento  es de 0.5602 y MAE en entrenamiento es de 0.5174 lo que nos indica que va descendiendo porque el modelo está aprendiendo de manera efectiva a captar las relaciones entre las secuencias de texto y la intensidad del odio que se quiere predecir.\n",
    "* Los errores en el conjunto de validación se mantienen en un rango similar al de entrenamiento, lo que nos sugiere que el modelo se generaliza bien a datos no vistos y no sufre de un overfitting significativo.\n",
    "* En la evaluación final del conjunto de prueba, obtuvimos una pérdida de 0.7946 y un MAE de 0.5744 en el conjunto de prueba. Lo anterior nos indica que en promedio, el modelo comete un error de aproximadamente 0.57 unidades en la predicción del nivel de odio (dependiendo de la escala en que se midan los niveles de odio, este valor podría considerarse satisfactorio).\n",
    "\n",
    "En conclcusión, los resultados muestran que el modelo ha sido eficaz en aprender a predecir el nivel de odio a partir de los mensajes y se comporta de manera coherente tanto en datos de entrenamiento y validación como al predecir mensajes nuevos. Estos comentarios detallados te permitirán identificar las fortalezas del modelo y sentar las bases para futuros ajustes o ampliaciones del sistema.\n",
    "\n",
    "\n",
    "A continuación, haremos una predicción con un mensaje muestra y posteriormente tomaremos 5 mensajes al azar de nuestro dataset para hacer la predicción.\n",
    "\n"
   ]
  },
  {
   "cell_type": "code",
   "execution_count": null,
   "metadata": {},
   "outputs": [
    {
     "name": "stdout",
     "output_type": "stream",
     "text": [
      "Forma de la entrada de predicción: (1, 1)\n",
      "\u001b[1m1/1\u001b[0m \u001b[32m━━━━━━━━━━━━━━━━━━━━\u001b[0m\u001b[37m\u001b[0m \u001b[1m0s\u001b[0m 171ms/step\n",
      "Forma de la predicción: (1, 1)\n",
      "Nivel de odio estimado: 3.61\n"
     ]
    }
   ],
   "source": [
    "\n",
    "mensaje_nuevo = tf.constant([\"Este comentario es muy ofensivo y agresivo\"])\n",
    "mensaje_input = tf.reshape(mensaje_nuevo, (-1, 1))  # Forma: (1, 1)\n",
    "\n",
    "print(f\"Forma de la entrada de predicción: {mensaje_input.shape}\")\n",
    "prediccion = modelo.predict(mensaje_input)\n",
    "\n",
    "print(f\"Forma de la predicción: {prediccion.shape}\")\n",
    "print(f\"Nivel de odio estimado: {prediccion[0][0]:.2f}\")\n"
   ]
  },
  {
   "cell_type": "code",
   "execution_count": null,
   "metadata": {},
   "outputs": [
    {
     "name": "stdout",
     "output_type": "stream",
     "text": [
      "Mensajes de entrada para predicción:\n",
      " - fascista mentirosos\n",
      " - explicarle ofreció ayuso niños comunidad madrid asco\n",
      " - nuelo99 119 despreciable miserable ofusca poder haberlo intentado exporta envidia sufre trata indiferencia\n",
      " - dí­as tontos tontos dí­as\n",
      " - puede haber gente tan hija puta\n",
      " - rata pablo iglesias robó dinero venezolanos\n",
      " - mamarracha\n",
      " - decir mentiras panda mentirosos\n",
      " - mierdas ejerceis periodistos\n",
      " - hombre gilipollas\n",
      "Forma de la entrada para predicción: (10, 1)\n",
      "\u001b[1m1/1\u001b[0m \u001b[32m━━━━━━━━━━━━━━━━━━━━\u001b[0m\u001b[37m\u001b[0m \u001b[1m0s\u001b[0m 47ms/step\n",
      "Predicciones:\n",
      "Mensaje 1: Intensidad original: 4 - Nivel de odio estimado: 2\n",
      "Mensaje 2: Intensidad original: 4 - Nivel de odio estimado: 4\n",
      "Mensaje 3: Intensidad original: 4 - Nivel de odio estimado: 4\n",
      "Mensaje 4: Intensidad original: 4 - Nivel de odio estimado: 4\n",
      "Mensaje 5: Intensidad original: 4 - Nivel de odio estimado: 4\n",
      "Mensaje 6: Intensidad original: 4 - Nivel de odio estimado: 4\n",
      "Mensaje 7: Intensidad original: 4 - Nivel de odio estimado: 4\n",
      "Mensaje 8: Intensidad original: 4 - Nivel de odio estimado: 4\n",
      "Mensaje 9: Intensidad original: 4 - Nivel de odio estimado: 4\n",
      "Mensaje 10: Intensidad original: 4 - Nivel de odio estimado: 4\n"
     ]
    }
   ],
   "source": [
    "# Predicción de 10 mensajes aleatorios del dataset\n",
    "\n",
    "random_rows = data.sample(10, random_state=42)\n",
    "random_messages = random_rows[\"mensaje\"].tolist()\n",
    "original_intensities = random_rows[\"intensidad\"].tolist()\n",
    "\n",
    "\n",
    "# Convertimos la lista de mensajes a un tensor con forma (batch_size, 1)\n",
    "mensaje_input = tf.constant(random_messages)\n",
    "mensaje_input = tf.reshape(mensaje_input, (-1, 1))  # Resultado: (5, 1)\n",
    "\n",
    "print(\"Mensajes de entrada para predicción:\")\n",
    "for msg, orig in zip(random_messages, original_intensities):\n",
    "    print(f\" - {msg}\")\n",
    "\n",
    "print(f\"Forma de la entrada para predicción: {mensaje_input.shape}\")\n",
    "\n",
    "\n",
    "# Realizamos la predicción (la vectorización está incluida en el modelo)\n",
    "predicciones = modelo.predict(mensaje_input)\n",
    "\n",
    "# Mostramos la predicción para cada mensaje\n",
    "print(\"Predicciones:\")\n",
    "for i, pred in enumerate(predicciones):\n",
    "    print(f\"Mensaje {i+1}: Intensidad original: {original_intensities[i]:.0f} - Nivel de odio estimado: {pred[0]:.0f}\")\n",
    "\n"
   ]
  },
  {
   "cell_type": "markdown",
   "metadata": {},
   "source": [
    "En el paso anterior, realizamos la predicción de 10 mensajes aleatorios del dataset, en los que se muestra para cada uno la \"intensidad original\" (tal como se encuentra en los datos) y el \"nivel de odio estimado\" por el modelo. Podemos observar lo siguinte:\n",
    "\n",
    "* Para estos mensajes se muestra que la intensidad original asignada en el dataset es 4 para todos, lo que sugiere que, en el conjunto de datos, estos mensajes han sido etiquetados con la misma intensidad (posiblemente indicando una cierta homogeneidad en la manera de etiquetar el odio en este subconjunto).\n",
    "* La mayoría de los mensajes (9 de 10) son predichos con un nivel de odio de 4, lo que coincide exactamente con la intensidad original en el dataset. Lo anterior nos indica que el modelo ha aprendido que, para la gran mayoría de los mensajes, la etiqueta \"4\" es el valor más representativo o predominante en el entrenamiento (lo que se podría reflejar en una distribución de etiquetas sesgada o concentrada en ese valor). Un MAE en torno a 0.57, observado durante la evaluación, es coherente con esta estabilidad al predecir valores cercanos a 4.\n",
    "\n",
    "En conclusión,el hecho de que la mayoría de las predicciones coincida exactamente con la etiqueta 4 demuestra una buena capacidad de generalización en el contexto de los datos disponibles. Sin embargo, la discrepancia observada en el primer mensaje sugiere que podemos revisar la distribución de la variable “intensidad” en el dataset para confirmar si existe un sesgo importante hacia la etiqueta 4.\n",
    "\n",
    "Los resultados nos indicaron que el modelo es capaz de replicar fielmente la etiqueta predominante (4) para la mayoría de los mensajes, lo que es consistente en la evaluación y en la predicción de este subconjunto aleatorio. La excepción observada en el primer mensaje apunta a que puede haber margen de mejora en la sensibilidad del modelo para ciertos tipos de expresiones cortas o atípicas.\n",
    "\n",
    "\n",
    "A continuación, realizaremos las siguientes 2 mejoras a nuestro modelo:\n",
    "* Mejoraremos el preprocesamiento, definiremos una función de estandarización personalizada para la capa de vectorización que convierte el texto a minúsculas, elimina saltos HTML y remueve la puntuación. Esto nos ayudará a a normalizar la entrada antes de la tokenización.\n",
    "* Mejoraremos la arquitectura utilizando un LSTM bidireccional en lugar del LSTM simple para capturar el contexto en ambas direcciones. Además, agregaremos un dropout extra antes de la capa LSTM para ayudar a reducir el ruido y mejorar la generalización.\n",
    "\n",
    "\n",
    "\n"
   ]
  },
  {
   "cell_type": "code",
   "execution_count": null,
   "metadata": {},
   "outputs": [
    {
     "data": {
      "text/html": [
       "<pre style=\"white-space:pre;overflow-x:auto;line-height:normal;font-family:Menlo,'DejaVu Sans Mono',consolas,'Courier New',monospace\"><span style=\"font-weight: bold\">Model: \"functional_1\"</span>\n",
       "</pre>\n"
      ],
      "text/plain": [
       "\u001b[1mModel: \"functional_1\"\u001b[0m\n"
      ]
     },
     "metadata": {},
     "output_type": "display_data"
    },
    {
     "data": {
      "text/html": [
       "<pre style=\"white-space:pre;overflow-x:auto;line-height:normal;font-family:Menlo,'DejaVu Sans Mono',consolas,'Courier New',monospace\">┏━━━━━━━━━━━━━━━━━━━━━━━━━━━━━━━━━┳━━━━━━━━━━━━━━━━━━━━━━━━┳━━━━━━━━━━━━━━━┓\n",
       "┃<span style=\"font-weight: bold\"> Layer (type)                    </span>┃<span style=\"font-weight: bold\"> Output Shape           </span>┃<span style=\"font-weight: bold\">       Param # </span>┃\n",
       "┡━━━━━━━━━━━━━━━━━━━━━━━━━━━━━━━━━╇━━━━━━━━━━━━━━━━━━━━━━━━╇━━━━━━━━━━━━━━━┩\n",
       "│ input_layer_2 (<span style=\"color: #0087ff; text-decoration-color: #0087ff\">InputLayer</span>)      │ (<span style=\"color: #00d7ff; text-decoration-color: #00d7ff\">None</span>, <span style=\"color: #00af00; text-decoration-color: #00af00\">1</span>)              │             <span style=\"color: #00af00; text-decoration-color: #00af00\">0</span> │\n",
       "├─────────────────────────────────┼────────────────────────┼───────────────┤\n",
       "│ text_vectorization_3            │ (<span style=\"color: #00d7ff; text-decoration-color: #00d7ff\">None</span>, <span style=\"color: #00af00; text-decoration-color: #00af00\">10</span>)             │             <span style=\"color: #00af00; text-decoration-color: #00af00\">0</span> │\n",
       "│ (<span style=\"color: #0087ff; text-decoration-color: #0087ff\">TextVectorization</span>)             │                        │               │\n",
       "├─────────────────────────────────┼────────────────────────┼───────────────┤\n",
       "│ embedding_2 (<span style=\"color: #0087ff; text-decoration-color: #0087ff\">Embedding</span>)         │ (<span style=\"color: #00d7ff; text-decoration-color: #00d7ff\">None</span>, <span style=\"color: #00af00; text-decoration-color: #00af00\">10</span>, <span style=\"color: #00af00; text-decoration-color: #00af00\">128</span>)        │       <span style=\"color: #00af00; text-decoration-color: #00af00\">640,000</span> │\n",
       "├─────────────────────────────────┼────────────────────────┼───────────────┤\n",
       "│ dropout_2 (<span style=\"color: #0087ff; text-decoration-color: #0087ff\">Dropout</span>)             │ (<span style=\"color: #00d7ff; text-decoration-color: #00d7ff\">None</span>, <span style=\"color: #00af00; text-decoration-color: #00af00\">10</span>, <span style=\"color: #00af00; text-decoration-color: #00af00\">128</span>)        │             <span style=\"color: #00af00; text-decoration-color: #00af00\">0</span> │\n",
       "├─────────────────────────────────┼────────────────────────┼───────────────┤\n",
       "│ bidirectional (<span style=\"color: #0087ff; text-decoration-color: #0087ff\">Bidirectional</span>)   │ (<span style=\"color: #00d7ff; text-decoration-color: #00d7ff\">None</span>, <span style=\"color: #00af00; text-decoration-color: #00af00\">10</span>, <span style=\"color: #00af00; text-decoration-color: #00af00\">256</span>)        │       <span style=\"color: #00af00; text-decoration-color: #00af00\">263,168</span> │\n",
       "├─────────────────────────────────┼────────────────────────┼───────────────┤\n",
       "│ global_average_pooling1d_1      │ (<span style=\"color: #00d7ff; text-decoration-color: #00d7ff\">None</span>, <span style=\"color: #00af00; text-decoration-color: #00af00\">256</span>)            │             <span style=\"color: #00af00; text-decoration-color: #00af00\">0</span> │\n",
       "│ (<span style=\"color: #0087ff; text-decoration-color: #0087ff\">GlobalAveragePooling1D</span>)        │                        │               │\n",
       "├─────────────────────────────────┼────────────────────────┼───────────────┤\n",
       "│ dropout_3 (<span style=\"color: #0087ff; text-decoration-color: #0087ff\">Dropout</span>)             │ (<span style=\"color: #00d7ff; text-decoration-color: #00d7ff\">None</span>, <span style=\"color: #00af00; text-decoration-color: #00af00\">256</span>)            │             <span style=\"color: #00af00; text-decoration-color: #00af00\">0</span> │\n",
       "├─────────────────────────────────┼────────────────────────┼───────────────┤\n",
       "│ dense_2 (<span style=\"color: #0087ff; text-decoration-color: #0087ff\">Dense</span>)                 │ (<span style=\"color: #00d7ff; text-decoration-color: #00d7ff\">None</span>, <span style=\"color: #00af00; text-decoration-color: #00af00\">64</span>)             │        <span style=\"color: #00af00; text-decoration-color: #00af00\">16,448</span> │\n",
       "├─────────────────────────────────┼────────────────────────┼───────────────┤\n",
       "│ dense_3 (<span style=\"color: #0087ff; text-decoration-color: #0087ff\">Dense</span>)                 │ (<span style=\"color: #00d7ff; text-decoration-color: #00d7ff\">None</span>, <span style=\"color: #00af00; text-decoration-color: #00af00\">1</span>)              │            <span style=\"color: #00af00; text-decoration-color: #00af00\">65</span> │\n",
       "└─────────────────────────────────┴────────────────────────┴───────────────┘\n",
       "</pre>\n"
      ],
      "text/plain": [
       "┏━━━━━━━━━━━━━━━━━━━━━━━━━━━━━━━━━┳━━━━━━━━━━━━━━━━━━━━━━━━┳━━━━━━━━━━━━━━━┓\n",
       "┃\u001b[1m \u001b[0m\u001b[1mLayer (type)                   \u001b[0m\u001b[1m \u001b[0m┃\u001b[1m \u001b[0m\u001b[1mOutput Shape          \u001b[0m\u001b[1m \u001b[0m┃\u001b[1m \u001b[0m\u001b[1m      Param #\u001b[0m\u001b[1m \u001b[0m┃\n",
       "┡━━━━━━━━━━━━━━━━━━━━━━━━━━━━━━━━━╇━━━━━━━━━━━━━━━━━━━━━━━━╇━━━━━━━━━━━━━━━┩\n",
       "│ input_layer_2 (\u001b[38;5;33mInputLayer\u001b[0m)      │ (\u001b[38;5;45mNone\u001b[0m, \u001b[38;5;34m1\u001b[0m)              │             \u001b[38;5;34m0\u001b[0m │\n",
       "├─────────────────────────────────┼────────────────────────┼───────────────┤\n",
       "│ text_vectorization_3            │ (\u001b[38;5;45mNone\u001b[0m, \u001b[38;5;34m10\u001b[0m)             │             \u001b[38;5;34m0\u001b[0m │\n",
       "│ (\u001b[38;5;33mTextVectorization\u001b[0m)             │                        │               │\n",
       "├─────────────────────────────────┼────────────────────────┼───────────────┤\n",
       "│ embedding_2 (\u001b[38;5;33mEmbedding\u001b[0m)         │ (\u001b[38;5;45mNone\u001b[0m, \u001b[38;5;34m10\u001b[0m, \u001b[38;5;34m128\u001b[0m)        │       \u001b[38;5;34m640,000\u001b[0m │\n",
       "├─────────────────────────────────┼────────────────────────┼───────────────┤\n",
       "│ dropout_2 (\u001b[38;5;33mDropout\u001b[0m)             │ (\u001b[38;5;45mNone\u001b[0m, \u001b[38;5;34m10\u001b[0m, \u001b[38;5;34m128\u001b[0m)        │             \u001b[38;5;34m0\u001b[0m │\n",
       "├─────────────────────────────────┼────────────────────────┼───────────────┤\n",
       "│ bidirectional (\u001b[38;5;33mBidirectional\u001b[0m)   │ (\u001b[38;5;45mNone\u001b[0m, \u001b[38;5;34m10\u001b[0m, \u001b[38;5;34m256\u001b[0m)        │       \u001b[38;5;34m263,168\u001b[0m │\n",
       "├─────────────────────────────────┼────────────────────────┼───────────────┤\n",
       "│ global_average_pooling1d_1      │ (\u001b[38;5;45mNone\u001b[0m, \u001b[38;5;34m256\u001b[0m)            │             \u001b[38;5;34m0\u001b[0m │\n",
       "│ (\u001b[38;5;33mGlobalAveragePooling1D\u001b[0m)        │                        │               │\n",
       "├─────────────────────────────────┼────────────────────────┼───────────────┤\n",
       "│ dropout_3 (\u001b[38;5;33mDropout\u001b[0m)             │ (\u001b[38;5;45mNone\u001b[0m, \u001b[38;5;34m256\u001b[0m)            │             \u001b[38;5;34m0\u001b[0m │\n",
       "├─────────────────────────────────┼────────────────────────┼───────────────┤\n",
       "│ dense_2 (\u001b[38;5;33mDense\u001b[0m)                 │ (\u001b[38;5;45mNone\u001b[0m, \u001b[38;5;34m64\u001b[0m)             │        \u001b[38;5;34m16,448\u001b[0m │\n",
       "├─────────────────────────────────┼────────────────────────┼───────────────┤\n",
       "│ dense_3 (\u001b[38;5;33mDense\u001b[0m)                 │ (\u001b[38;5;45mNone\u001b[0m, \u001b[38;5;34m1\u001b[0m)              │            \u001b[38;5;34m65\u001b[0m │\n",
       "└─────────────────────────────────┴────────────────────────┴───────────────┘\n"
      ]
     },
     "metadata": {},
     "output_type": "display_data"
    },
    {
     "data": {
      "text/html": [
       "<pre style=\"white-space:pre;overflow-x:auto;line-height:normal;font-family:Menlo,'DejaVu Sans Mono',consolas,'Courier New',monospace\"><span style=\"font-weight: bold\"> Total params: </span><span style=\"color: #00af00; text-decoration-color: #00af00\">919,681</span> (3.51 MB)\n",
       "</pre>\n"
      ],
      "text/plain": [
       "\u001b[1m Total params: \u001b[0m\u001b[38;5;34m919,681\u001b[0m (3.51 MB)\n"
      ]
     },
     "metadata": {},
     "output_type": "display_data"
    },
    {
     "data": {
      "text/html": [
       "<pre style=\"white-space:pre;overflow-x:auto;line-height:normal;font-family:Menlo,'DejaVu Sans Mono',consolas,'Courier New',monospace\"><span style=\"font-weight: bold\"> Trainable params: </span><span style=\"color: #00af00; text-decoration-color: #00af00\">919,681</span> (3.51 MB)\n",
       "</pre>\n"
      ],
      "text/plain": [
       "\u001b[1m Trainable params: \u001b[0m\u001b[38;5;34m919,681\u001b[0m (3.51 MB)\n"
      ]
     },
     "metadata": {},
     "output_type": "display_data"
    },
    {
     "data": {
      "text/html": [
       "<pre style=\"white-space:pre;overflow-x:auto;line-height:normal;font-family:Menlo,'DejaVu Sans Mono',consolas,'Courier New',monospace\"><span style=\"font-weight: bold\"> Non-trainable params: </span><span style=\"color: #00af00; text-decoration-color: #00af00\">0</span> (0.00 B)\n",
       "</pre>\n"
      ],
      "text/plain": [
       "\u001b[1m Non-trainable params: \u001b[0m\u001b[38;5;34m0\u001b[0m (0.00 B)\n"
      ]
     },
     "metadata": {},
     "output_type": "display_data"
    }
   ],
   "source": [
    "from tensorflow.keras.layers import Bidirectional\n",
    "\n",
    "def custom_standardization(input_data):\n",
    "    lowercase = tf.strings.lower(input_data)\n",
    "    stripped_html = tf.strings.regex_replace(lowercase, '<br />', ' ')\n",
    "    return tf.strings.regex_replace(stripped_html, '[%s]' % re.escape(string.punctuation), '')\n",
    "\n",
    "\n",
    "tamaño_vocabulario = 5000     \n",
    "dim_embedding = 128           \n",
    "tamaño_lstm = 128             \n",
    "learning_rate = 0.0001\n",
    "\n",
    "\n",
    "textos = data[\"mensaje\"].astype(str).tolist()\n",
    "\n",
    "\n",
    "vectorizador = TextVectorization(\n",
    "    standardize=custom_standardization,  \n",
    "    max_tokens=tamaño_vocabulario,\n",
    "    output_mode=\"int\",\n",
    "    output_sequence_length=10        \n",
    ")\n",
    "vectorizador.adapt(textos)\n",
    "\n",
    "\n",
    "entrada_texto = Input(shape=(1,), dtype=tf.string)\n",
    "\n",
    "# Contrucción del modelo\n",
    "x = vectorizador(entrada_texto)  \n",
    "x = Embedding(input_dim=tamaño_vocabulario, output_dim=dim_embedding)(x)  \n",
    "x = Dropout(0.2)(x)\n",
    "x = Bidirectional(LSTM(tamaño_lstm, return_sequences=True))(x)  \n",
    "x = GlobalAveragePooling1D()(x)                                  \n",
    "x = Dropout(0.3)(x)\n",
    "x = Dense(64, activation=\"relu\")(x)\n",
    "salida = Dense(1, activation=\"linear\")(x)                        \n",
    "\n",
    "modelo = Model(inputs=entrada_texto, outputs=salida)\n",
    "modelo.compile(optimizer=Adam(learning_rate=learning_rate), loss=\"mse\", metrics=[\"mae\"])\n",
    "\n",
    "# Mostramos la estructura del modelo\n",
    "modelo.summary()\n",
    "\n"
   ]
  },
  {
   "cell_type": "code",
   "execution_count": null,
   "metadata": {},
   "outputs": [
    {
     "name": "stdout",
     "output_type": "stream",
     "text": [
      "Epoch 1/10\n",
      "\u001b[1m154/154\u001b[0m \u001b[32m━━━━━━━━━━━━━━━━━━━━\u001b[0m\u001b[37m\u001b[0m \u001b[1m5s\u001b[0m 13ms/step - loss: 10.1127 - mae: 2.8804 - val_loss: 1.8564 - val_mae: 0.9680\n",
      "Epoch 2/10\n",
      "\u001b[1m154/154\u001b[0m \u001b[32m━━━━━━━━━━━━━━━━━━━━\u001b[0m\u001b[37m\u001b[0m \u001b[1m2s\u001b[0m 11ms/step - loss: 1.5703 - mae: 0.8927 - val_loss: 1.1473 - val_mae: 0.7658\n",
      "Epoch 3/10\n",
      "\u001b[1m154/154\u001b[0m \u001b[32m━━━━━━━━━━━━━━━━━━━━\u001b[0m\u001b[37m\u001b[0m \u001b[1m2s\u001b[0m 12ms/step - loss: 1.1163 - mae: 0.7333 - val_loss: 0.9599 - val_mae: 0.6848\n",
      "Epoch 4/10\n",
      "\u001b[1m154/154\u001b[0m \u001b[32m━━━━━━━━━━━━━━━━━━━━\u001b[0m\u001b[37m\u001b[0m \u001b[1m2s\u001b[0m 11ms/step - loss: 0.9572 - mae: 0.6589 - val_loss: 0.8059 - val_mae: 0.6001\n",
      "Epoch 5/10\n",
      "\u001b[1m154/154\u001b[0m \u001b[32m━━━━━━━━━━━━━━━━━━━━\u001b[0m\u001b[37m\u001b[0m \u001b[1m2s\u001b[0m 12ms/step - loss: 0.8049 - mae: 0.6015 - val_loss: 0.7537 - val_mae: 0.5777\n",
      "Epoch 6/10\n",
      "\u001b[1m154/154\u001b[0m \u001b[32m━━━━━━━━━━━━━━━━━━━━\u001b[0m\u001b[37m\u001b[0m \u001b[1m2s\u001b[0m 12ms/step - loss: 0.7151 - mae: 0.5715 - val_loss: 0.7349 - val_mae: 0.5571\n",
      "Epoch 7/10\n",
      "\u001b[1m154/154\u001b[0m \u001b[32m━━━━━━━━━━━━━━━━━━━━\u001b[0m\u001b[37m\u001b[0m \u001b[1m2s\u001b[0m 11ms/step - loss: 0.6638 - mae: 0.5512 - val_loss: 0.7352 - val_mae: 0.5500\n",
      "Epoch 8/10\n",
      "\u001b[1m154/154\u001b[0m \u001b[32m━━━━━━━━━━━━━━━━━━━━\u001b[0m\u001b[37m\u001b[0m \u001b[1m2s\u001b[0m 11ms/step - loss: 0.6101 - mae: 0.5285 - val_loss: 0.7415 - val_mae: 0.5526\n",
      "Epoch 9/10\n",
      "\u001b[1m154/154\u001b[0m \u001b[32m━━━━━━━━━━━━━━━━━━━━\u001b[0m\u001b[37m\u001b[0m \u001b[1m2s\u001b[0m 12ms/step - loss: 0.5797 - mae: 0.5159 - val_loss: 0.7510 - val_mae: 0.5565\n",
      "Epoch 10/10\n",
      "\u001b[1m154/154\u001b[0m \u001b[32m━━━━━━━━━━━━━━━━━━━━\u001b[0m\u001b[37m\u001b[0m \u001b[1m2s\u001b[0m 11ms/step - loss: 0.5581 - mae: 0.5068 - val_loss: 0.7636 - val_mae: 0.5583\n",
      "\u001b[1m39/39\u001b[0m \u001b[32m━━━━━━━━━━━━━━━━━━━━\u001b[0m\u001b[37m\u001b[0m \u001b[1m0s\u001b[0m 5ms/step - loss: 0.7951 - mae: 0.5704 \n",
      "Pérdida: 0.7636, MAE: 0.5583\n"
     ]
    }
   ],
   "source": [
    "X_train, X_test, y_train, y_test = train_test_split(data[\"mensaje\"], data[\"intensidad\"], test_size=0.2, random_state=42)\n",
    "\n",
    "# Convertir los datos a tensores de TensorFlow con batching y prefetch\n",
    "train_dataset = tf.data.Dataset.from_tensor_slices((X_train, y_train)).batch(64).prefetch(tf.data.AUTOTUNE)\n",
    "test_dataset = tf.data.Dataset.from_tensor_slices((X_test, y_test)).batch(64).prefetch(tf.data.AUTOTUNE)\n",
    "\n",
    "# 8. Entrenar el modelo\n",
    "modelo.fit(train_dataset, epochs=10, validation_data=test_dataset)\n",
    "\n",
    "# 9. Evaluar el modelo en el conjunto de prueba\n",
    "loss, mae = modelo.evaluate(test_dataset)\n",
    "print(f\"Pérdida: {loss:.4f}, MAE: {mae:.4f}\")\n",
    "\n"
   ]
  },
  {
   "cell_type": "markdown",
   "metadata": {},
   "source": [
    "Después de implementar las mejoras, observamos lo siguiente:\n",
    "\n",
    "* El hecho de que la pérdida y el MAE disminuyan drásticamente de la primera a la segunda época señala que el modelo, gracias al preprocesamiento mejorado (estandarización, eliminación de puntuación y HTML) y el uso de un LSTM bidireccional, es capaz de aprender rápidamente de los datos.\n",
    "* A partir de la época 5, la curva de validación se estabiliza y la mejora es mucho más lenta. Esto sugiere que el modelo ha captado la mayor parte de la información disponible en los datos y que, para obtener mejoras adicionales, hemos discutido que podemos incrementar el número de épocas de entrenamiento junto con técnicas de early stopping, ajustar los hiperparámetros (como la tasa de aprendizaje o los niveles de dropout) para una mayor exploración del espacio de soluciones.\n",
    "\n",
    "En cocnlusión el modelo ha mejorado significativamente sus predicciones desde la primera época, estabilizándose alrededor de valores aceptables de pérdida y MAE. Podemos confirmar que la estrategia de preprocesamiento y la arquitectura bidireccional han tenido un impacto positivo en la capacidad del modelo para interpretar y predecir la intensidad del odio. La precisión final con MAE promedio de 0.56 es consistente, lo que sugiere una robusta capacidad de generalización a nuevos mensajes.\n",
    "\n",
    "\n",
    "A continuación probaremos el modelos con 10 mensajes tomados al azar.\n",
    "\n",
    "\n",
    "\n"
   ]
  },
  {
   "cell_type": "code",
   "execution_count": null,
   "metadata": {},
   "outputs": [
    {
     "name": "stdout",
     "output_type": "stream",
     "text": [
      "Mensajes de entrada para predicción:\n",
      " - fascista mentirosos\n",
      " - explicarle ofreció ayuso niños comunidad madrid asco\n",
      " - nuelo99 119 despreciable miserable ofusca poder haberlo intentado exporta envidia sufre trata indiferencia\n",
      " - dí­as tontos tontos dí­as\n",
      " - puede haber gente tan hija puta\n",
      " - rata pablo iglesias robó dinero venezolanos\n",
      " - mamarracha\n",
      " - decir mentiras panda mentirosos\n",
      " - mierdas ejerceis periodistos\n",
      " - hombre gilipollas\n",
      "Forma de la entrada para predicción: (10, 1)\n",
      "\u001b[1m1/1\u001b[0m \u001b[32m━━━━━━━━━━━━━━━━━━━━\u001b[0m\u001b[37m\u001b[0m \u001b[1m0s\u001b[0m 263ms/step\n",
      "Predicciones:\n",
      "Mensaje 1: Intensidad original: 4 - Nivel de odio estimado: 2\n",
      "Mensaje 2: Intensidad original: 4 - Nivel de odio estimado: 4\n",
      "Mensaje 3: Intensidad original: 4 - Nivel de odio estimado: 4\n",
      "Mensaje 4: Intensidad original: 4 - Nivel de odio estimado: 4\n",
      "Mensaje 5: Intensidad original: 4 - Nivel de odio estimado: 4\n",
      "Mensaje 6: Intensidad original: 4 - Nivel de odio estimado: 4\n",
      "Mensaje 7: Intensidad original: 4 - Nivel de odio estimado: 4\n",
      "Mensaje 8: Intensidad original: 4 - Nivel de odio estimado: 4\n",
      "Mensaje 9: Intensidad original: 4 - Nivel de odio estimado: 4\n",
      "Mensaje 10: Intensidad original: 4 - Nivel de odio estimado: 4\n"
     ]
    }
   ],
   "source": [
    "# Seleccionamos 10 mensajes al azar\n",
    "\n",
    "random_rows = data.sample(10, random_state=42)\n",
    "random_messages = random_rows[\"mensaje\"].tolist()\n",
    "original_intensities = random_rows[\"intensidad\"].tolist()\n",
    "\n",
    "mensaje_input = tf.constant(random_messages)\n",
    "mensaje_input = tf.reshape(mensaje_input, (-1, 1))  \n",
    "\n",
    "print(\"Mensajes de entrada para predicción:\")\n",
    "for msg, orig in zip(random_messages, original_intensities):\n",
    "    print(f\" - {msg}\")\n",
    "print(f\"Forma de la entrada para predicción: {mensaje_input.shape}\")\n",
    "\n",
    "predicciones = modelo.predict(mensaje_input)\n",
    "\n",
    "print(\"Predicciones:\")\n",
    "for i, pred in enumerate(predicciones):\n",
    "    print(f\"Mensaje {i+1}: Intensidad original: {original_intensities[i]:.0f} - Nivel de odio estimado: {pred[0]:.0f}\")\n"
   ]
  },
  {
   "cell_type": "markdown",
   "metadata": {},
   "source": [
    "* Observamos que las mejoras en preprocesamiento (como la estandarización, pasar todo a minúsculas y eliminar la puntuación) y el uso de un LSTM bidireccional han permitido que el modelo capte bien el contexto cuando hay suficiente información textual. Sin embargo, en mensajes cortos o atípicos, como el caso del mensaje 1, la falta de contexto adicional puede provocar una predicción errónea.\n",
    "* Todo el equipo coincidimos en que pudiera haber sesgo del modelo, el modelo puede haber aprendido a favorecer ese valor en escenarios donde la señal es débil o ambigua. Identificamos que en el dataset el 85% de los mensajes está concentrado en 4, lo que limita la capacidad del modelo para discriminar intensidades menores en ciertos mensajes.\n",
    "\n",
    "\n",
    "En conclusión, el modelo predice consistentemente la etiqueta mayoritaria (4) y esto se refleja en un desempeño robusto para la mayoría de los mensajes. La excepción del primer mensaje (predicción de 2) destaca la posibilidad de que mensajes muy breves o atípicos no estén recibiendo suficiente contexto, sugiriendo que se pueden aplicar técnicas adicionales de preprocesamiento, muestreo o ajuste en la función de pérdida para mejorar la sensibilidad en esos casos.\n",
    "\n"
   ]
  },
  {
   "cell_type": "markdown",
   "metadata": {},
   "source": [
    "Comparación de ambos modelos:\n",
    "\n",
    "* Observamos que el modelo mejorado converge de manera similar o un poco más rápida que el modelo original y alcanza valores de pérdida y MAE ligeramente inferiores. Esto es un indicativo de que las mejoras implementadas (preprocesamiento y LSTM bidireccional) han aportado una mejor capacidad para capturar patrones en los datos.\n",
    "* Ambos modelos tienden a predecir la misma intensidad (4), reflejando el sesgo en la distribución de etiquetas del dataset ya que el 85% están concentrados en intensidad 4.\n",
    "* Aformamos que el modelo mejorado, es potencialmente más robusto para capturar variaciones en mensajes cortos o atípicos, aunque el caso del mensaje \"fascista mentirosos\" sigue mostrando que aún es un reto cuando la información textual es muy limitada.\n",
    "* La limpieza adicional (minúsculas, eliminación de HTML y puntuación) reduce la variabilidad en la representación de los textos, lo que puede ayudar a reducir errores debidos a diferencias en la forma en que se escriben los mismos conceptos. El modelo original no disponía de este refinamiento, lo que podría afectar ligeramente su capacidad de generalizar sobre mensajes con formatos poco convencionales, aunque las instrucciones afirmaban que los mensajes ya estaban limpios. \n",
    "\n",
    "En cocnlusión, ambos modelos logran un desempeño aceptable en la predicción de la intensidad del odio, con errores (MAE) en torno a 0.56; aunque el modelo mejorado muestra una leve disminución en la pérdida y el MAE, lo que sugiere que las mejoras aportadas han tenido un impacto positivo en la capacidad predictiva.\n",
    "\n",
    "La transición a una arquitectura bidireccional y la incorporación de un preprocesamiento robusto enfatizan los aspectos contextuales del texto, lo que es esencial para un problema tan sutil como medir la intensidad del odio en mensajes. Sin embargo, el sesgo predominante hacia la etiqueta 4 en el dataset limita la variabilidad de las predicciones.\n",
    "\n",
    "\n",
    "Posibles mejoras:\n",
    "* Ampliar el dataset o balancear las etiquetas\n",
    "* Explorar técnicas de ponderación en la función de pérdida para dar mayor relevancia a registros que no pertenecen a la clase mayoritaria.\n",
    "* Realizar afinación de hiperparámetros\n",
    "\n",
    "\n",
    "\n"
   ]
  },
  {
   "cell_type": "code",
   "execution_count": null,
   "metadata": {},
   "outputs": [],
   "source": []
  }
 ],
 "metadata": {
  "colab": {
   "provenance": []
  },
  "kernelspec": {
   "display_name": "3.12_env",
   "language": "python",
   "name": "python3"
  },
  "language_info": {
   "codemirror_mode": {
    "name": "ipython",
    "version": 3
   },
   "file_extension": ".py",
   "mimetype": "text/x-python",
   "name": "python",
   "nbconvert_exporter": "python",
   "pygments_lexer": "ipython3",
   "version": "3.12.9"
  }
 },
 "nbformat": 4,
 "nbformat_minor": 4
}
